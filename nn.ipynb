{
  "nbformat": 4,
  "nbformat_minor": 0,
  "metadata": {
    "colab": {
      "provenance": []
    },
    "kernelspec": {
      "name": "python3",
      "display_name": "Python 3"
    },
    "language_info": {
      "name": "python"
    },
    "accelerator": "GPU",
    "gpuClass": "standard"
  },
  "cells": [
    {
      "cell_type": "code",
      "source": [
        "from google.colab import drive\n",
        "drive.mount('/content/drive/')"
      ],
      "metadata": {
        "colab": {
          "base_uri": "https://localhost:8080/"
        },
        "id": "LUpX7YLU_XrU",
        "outputId": "9c039203-85e0-400b-a907-57295eb0bb70"
      },
      "execution_count": 1,
      "outputs": [
        {
          "output_type": "stream",
          "name": "stdout",
          "text": [
            "Drive already mounted at /content/drive/; to attempt to forcibly remount, call drive.mount(\"/content/drive/\", force_remount=True).\n"
          ]
        }
      ]
    },
    {
      "cell_type": "code",
      "source": [
        "#!unrar x \"/content/drive/MyDrive/train_conv.rar\" \"/content/\"\n",
        "#!unrar x \"/content/drive/MyDrive/val_conv.rar\" \"/content/\""
      ],
      "metadata": {
        "id": "ZDOLHCnHjl-3"
      },
      "execution_count": 2,
      "outputs": []
    },
    {
      "cell_type": "code",
      "execution_count": 3,
      "metadata": {
        "id": "APnJZRLw-jYe"
      },
      "outputs": [],
      "source": [
        "import tensorflow as tf\n",
        "from tensorflow.keras import datasets, layers, models\n",
        "import matplotlib.pyplot as plt\n",
        "from tensorflow.keras.preprocessing.image import ImageDataGenerator\n",
        "import numpy as np\n",
        "import pandas as pd\n",
        "import cv2"
      ]
    },
    {
      "cell_type": "code",
      "source": [
        "from keras.applications import VGG16\n"
      ],
      "metadata": {
        "id": "UlQ5hlD-Rc3K"
      },
      "execution_count": 4,
      "outputs": []
    },
    {
      "cell_type": "code",
      "source": [
        "df=pd.read_csv('df2.csv')\n"
      ],
      "metadata": {
        "id": "YmwrzRx5_Xts"
      },
      "execution_count": 5,
      "outputs": []
    },
    {
      "cell_type": "code",
      "source": [
        "#df['image']=df['image'].apply(lambda x: x if x[-4:]=='.png' else np.nan)"
      ],
      "metadata": {
        "id": "J_Bg2Y1o_XwE"
      },
      "execution_count": 6,
      "outputs": []
    },
    {
      "cell_type": "code",
      "source": [
        "#df=df.dropna().reset_index(drop=True)"
      ],
      "metadata": {
        "id": "k7n4flHFiab-"
      },
      "execution_count": 7,
      "outputs": []
    },
    {
      "cell_type": "code",
      "source": [
        "df.dir='/'+df.type+'/'+df.image"
      ],
      "metadata": {
        "id": "K_enNjDyj3KG"
      },
      "execution_count": 8,
      "outputs": []
    },
    {
      "cell_type": "code",
      "source": [
        "df"
      ],
      "metadata": {
        "colab": {
          "base_uri": "https://localhost:8080/",
          "height": 424
        },
        "id": "WQMUDadEkIKw",
        "outputId": "44cf697f-3db1-4abd-a43e-08399069794a"
      },
      "execution_count": 9,
      "outputs": [
        {
          "output_type": "execute_result",
          "data": {
            "text/plain": [
              "                        image                          dir  cls   type\n",
              "0        crop1_DJI_0002_1.jpg    /val/crop1_DJI_0002_1.jpg    1    val\n",
              "1       crop1_DJI_0002_15.jpg   /val/crop1_DJI_0002_15.jpg    1    val\n",
              "2       crop1_DJI_0002_23.jpg   /val/crop1_DJI_0002_23.jpg    1    val\n",
              "3        crop1_DJI_0481_1.jpg    /val/crop1_DJI_0481_1.jpg    1    val\n",
              "4      crop1_DJI_0481_101.jpg  /val/crop1_DJI_0481_101.jpg    1    val\n",
              "...                       ...                          ...  ...    ...\n",
              "33639        DJI_0121_975.jpg      /train/DJI_0121_975.jpg   99  train\n",
              "33640         DJI_0121_98.jpg       /train/DJI_0121_98.jpg   99  train\n",
              "33641        DJI_0121_982.jpg      /train/DJI_0121_982.jpg   99  train\n",
              "33642        DJI_0121_990.jpg      /train/DJI_0121_990.jpg   99  train\n",
              "33643        DJI_0121_997.jpg      /train/DJI_0121_997.jpg   99  train\n",
              "\n",
              "[33644 rows x 4 columns]"
            ],
            "text/html": [
              "\n",
              "  <div id=\"df-4ae399b7-4eda-4d19-8f50-e1d647d4d17a\">\n",
              "    <div class=\"colab-df-container\">\n",
              "      <div>\n",
              "<style scoped>\n",
              "    .dataframe tbody tr th:only-of-type {\n",
              "        vertical-align: middle;\n",
              "    }\n",
              "\n",
              "    .dataframe tbody tr th {\n",
              "        vertical-align: top;\n",
              "    }\n",
              "\n",
              "    .dataframe thead th {\n",
              "        text-align: right;\n",
              "    }\n",
              "</style>\n",
              "<table border=\"1\" class=\"dataframe\">\n",
              "  <thead>\n",
              "    <tr style=\"text-align: right;\">\n",
              "      <th></th>\n",
              "      <th>image</th>\n",
              "      <th>dir</th>\n",
              "      <th>cls</th>\n",
              "      <th>type</th>\n",
              "    </tr>\n",
              "  </thead>\n",
              "  <tbody>\n",
              "    <tr>\n",
              "      <th>0</th>\n",
              "      <td>crop1_DJI_0002_1.jpg</td>\n",
              "      <td>/val/crop1_DJI_0002_1.jpg</td>\n",
              "      <td>1</td>\n",
              "      <td>val</td>\n",
              "    </tr>\n",
              "    <tr>\n",
              "      <th>1</th>\n",
              "      <td>crop1_DJI_0002_15.jpg</td>\n",
              "      <td>/val/crop1_DJI_0002_15.jpg</td>\n",
              "      <td>1</td>\n",
              "      <td>val</td>\n",
              "    </tr>\n",
              "    <tr>\n",
              "      <th>2</th>\n",
              "      <td>crop1_DJI_0002_23.jpg</td>\n",
              "      <td>/val/crop1_DJI_0002_23.jpg</td>\n",
              "      <td>1</td>\n",
              "      <td>val</td>\n",
              "    </tr>\n",
              "    <tr>\n",
              "      <th>3</th>\n",
              "      <td>crop1_DJI_0481_1.jpg</td>\n",
              "      <td>/val/crop1_DJI_0481_1.jpg</td>\n",
              "      <td>1</td>\n",
              "      <td>val</td>\n",
              "    </tr>\n",
              "    <tr>\n",
              "      <th>4</th>\n",
              "      <td>crop1_DJI_0481_101.jpg</td>\n",
              "      <td>/val/crop1_DJI_0481_101.jpg</td>\n",
              "      <td>1</td>\n",
              "      <td>val</td>\n",
              "    </tr>\n",
              "    <tr>\n",
              "      <th>...</th>\n",
              "      <td>...</td>\n",
              "      <td>...</td>\n",
              "      <td>...</td>\n",
              "      <td>...</td>\n",
              "    </tr>\n",
              "    <tr>\n",
              "      <th>33639</th>\n",
              "      <td>DJI_0121_975.jpg</td>\n",
              "      <td>/train/DJI_0121_975.jpg</td>\n",
              "      <td>99</td>\n",
              "      <td>train</td>\n",
              "    </tr>\n",
              "    <tr>\n",
              "      <th>33640</th>\n",
              "      <td>DJI_0121_98.jpg</td>\n",
              "      <td>/train/DJI_0121_98.jpg</td>\n",
              "      <td>99</td>\n",
              "      <td>train</td>\n",
              "    </tr>\n",
              "    <tr>\n",
              "      <th>33641</th>\n",
              "      <td>DJI_0121_982.jpg</td>\n",
              "      <td>/train/DJI_0121_982.jpg</td>\n",
              "      <td>99</td>\n",
              "      <td>train</td>\n",
              "    </tr>\n",
              "    <tr>\n",
              "      <th>33642</th>\n",
              "      <td>DJI_0121_990.jpg</td>\n",
              "      <td>/train/DJI_0121_990.jpg</td>\n",
              "      <td>99</td>\n",
              "      <td>train</td>\n",
              "    </tr>\n",
              "    <tr>\n",
              "      <th>33643</th>\n",
              "      <td>DJI_0121_997.jpg</td>\n",
              "      <td>/train/DJI_0121_997.jpg</td>\n",
              "      <td>99</td>\n",
              "      <td>train</td>\n",
              "    </tr>\n",
              "  </tbody>\n",
              "</table>\n",
              "<p>33644 rows × 4 columns</p>\n",
              "</div>\n",
              "      <button class=\"colab-df-convert\" onclick=\"convertToInteractive('df-4ae399b7-4eda-4d19-8f50-e1d647d4d17a')\"\n",
              "              title=\"Convert this dataframe to an interactive table.\"\n",
              "              style=\"display:none;\">\n",
              "        \n",
              "  <svg xmlns=\"http://www.w3.org/2000/svg\" height=\"24px\"viewBox=\"0 0 24 24\"\n",
              "       width=\"24px\">\n",
              "    <path d=\"M0 0h24v24H0V0z\" fill=\"none\"/>\n",
              "    <path d=\"M18.56 5.44l.94 2.06.94-2.06 2.06-.94-2.06-.94-.94-2.06-.94 2.06-2.06.94zm-11 1L8.5 8.5l.94-2.06 2.06-.94-2.06-.94L8.5 2.5l-.94 2.06-2.06.94zm10 10l.94 2.06.94-2.06 2.06-.94-2.06-.94-.94-2.06-.94 2.06-2.06.94z\"/><path d=\"M17.41 7.96l-1.37-1.37c-.4-.4-.92-.59-1.43-.59-.52 0-1.04.2-1.43.59L10.3 9.45l-7.72 7.72c-.78.78-.78 2.05 0 2.83L4 21.41c.39.39.9.59 1.41.59.51 0 1.02-.2 1.41-.59l7.78-7.78 2.81-2.81c.8-.78.8-2.07 0-2.86zM5.41 20L4 18.59l7.72-7.72 1.47 1.35L5.41 20z\"/>\n",
              "  </svg>\n",
              "      </button>\n",
              "      \n",
              "  <style>\n",
              "    .colab-df-container {\n",
              "      display:flex;\n",
              "      flex-wrap:wrap;\n",
              "      gap: 12px;\n",
              "    }\n",
              "\n",
              "    .colab-df-convert {\n",
              "      background-color: #E8F0FE;\n",
              "      border: none;\n",
              "      border-radius: 50%;\n",
              "      cursor: pointer;\n",
              "      display: none;\n",
              "      fill: #1967D2;\n",
              "      height: 32px;\n",
              "      padding: 0 0 0 0;\n",
              "      width: 32px;\n",
              "    }\n",
              "\n",
              "    .colab-df-convert:hover {\n",
              "      background-color: #E2EBFA;\n",
              "      box-shadow: 0px 1px 2px rgba(60, 64, 67, 0.3), 0px 1px 3px 1px rgba(60, 64, 67, 0.15);\n",
              "      fill: #174EA6;\n",
              "    }\n",
              "\n",
              "    [theme=dark] .colab-df-convert {\n",
              "      background-color: #3B4455;\n",
              "      fill: #D2E3FC;\n",
              "    }\n",
              "\n",
              "    [theme=dark] .colab-df-convert:hover {\n",
              "      background-color: #434B5C;\n",
              "      box-shadow: 0px 1px 3px 1px rgba(0, 0, 0, 0.15);\n",
              "      filter: drop-shadow(0px 1px 2px rgba(0, 0, 0, 0.3));\n",
              "      fill: #FFFFFF;\n",
              "    }\n",
              "  </style>\n",
              "\n",
              "      <script>\n",
              "        const buttonEl =\n",
              "          document.querySelector('#df-4ae399b7-4eda-4d19-8f50-e1d647d4d17a button.colab-df-convert');\n",
              "        buttonEl.style.display =\n",
              "          google.colab.kernel.accessAllowed ? 'block' : 'none';\n",
              "\n",
              "        async function convertToInteractive(key) {\n",
              "          const element = document.querySelector('#df-4ae399b7-4eda-4d19-8f50-e1d647d4d17a');\n",
              "          const dataTable =\n",
              "            await google.colab.kernel.invokeFunction('convertToInteractive',\n",
              "                                                     [key], {});\n",
              "          if (!dataTable) return;\n",
              "\n",
              "          const docLinkHtml = 'Like what you see? Visit the ' +\n",
              "            '<a target=\"_blank\" href=https://colab.research.google.com/notebooks/data_table.ipynb>data table notebook</a>'\n",
              "            + ' to learn more about interactive tables.';\n",
              "          element.innerHTML = '';\n",
              "          dataTable['output_type'] = 'display_data';\n",
              "          await google.colab.output.renderOutput(dataTable, element);\n",
              "          const docLink = document.createElement('div');\n",
              "          docLink.innerHTML = docLinkHtml;\n",
              "          element.appendChild(docLink);\n",
              "        }\n",
              "      </script>\n",
              "    </div>\n",
              "  </div>\n",
              "  "
            ]
          },
          "metadata": {},
          "execution_count": 9
        }
      ]
    },
    {
      "cell_type": "code",
      "source": [],
      "metadata": {
        "id": "8lfb2ImenANv"
      },
      "execution_count": 9,
      "outputs": []
    },
    {
      "cell_type": "code",
      "source": [
        "size=576"
      ],
      "metadata": {
        "id": "68WEjPApnAQW"
      },
      "execution_count": 10,
      "outputs": []
    },
    {
      "cell_type": "code",
      "source": [
        "train = ImageDataGenerator(rescale=1/255)\n",
        "val = ImageDataGenerator(rescale=1/255)"
      ],
      "metadata": {
        "id": "HNYfkce-WvEO"
      },
      "execution_count": 11,
      "outputs": []
    },
    {
      "cell_type": "code",
      "source": [
        "train_generator = train.flow_from_directory(\n",
        "    directory=r\"/content/train_conv/\",\n",
        "    target_size=(size, size),\n",
        "    color_mode=\"rgb\",\n",
        "    batch_size=16,\n",
        "    class_mode=\"categorical\",\n",
        "    shuffle=True,\n",
        "    seed=42\n",
        ")"
      ],
      "metadata": {
        "colab": {
          "base_uri": "https://localhost:8080/"
        },
        "id": "pUaBfcvtU42G",
        "outputId": "b40c3bbb-9453-4f0b-f012-1f0c38a215b9"
      },
      "execution_count": 12,
      "outputs": [
        {
          "output_type": "stream",
          "name": "stdout",
          "text": [
            "Found 3013 images belonging to 102 classes.\n"
          ]
        }
      ]
    },
    {
      "cell_type": "code",
      "source": [
        "valid_generator = train.flow_from_directory(\n",
        "    directory=r\"/content/val_conv/\",\n",
        "    target_size=(size, size),\n",
        "    color_mode=\"rgb\",\n",
        "    batch_size=16,\n",
        "    class_mode=\"categorical\",\n",
        "    shuffle=True,\n",
        "    seed=42\n",
        ")"
      ],
      "metadata": {
        "colab": {
          "base_uri": "https://localhost:8080/"
        },
        "id": "A7ySJP4KU44W",
        "outputId": "d1fc641f-5bd4-46ec-ffca-60deca14775e"
      },
      "execution_count": 13,
      "outputs": [
        {
          "output_type": "stream",
          "name": "stdout",
          "text": [
            "Found 1859 images belonging to 102 classes.\n"
          ]
        }
      ]
    },
    {
      "cell_type": "code",
      "source": [
        "from keras.callbacks import EarlyStopping, ModelCheckpoint, ReduceLROnPlateau\n",
        "\n",
        "earlyStopping = EarlyStopping(monitor='val_loss', patience=10, verbose=0, mode='min')\n",
        "mcp_save = ModelCheckpoint('/content/mdl_wts.hdf5', save_best_only=True, monitor='val_loss', mode='min')\n",
        "reduce_lr_loss = ReduceLROnPlateau(monitor='val_loss', factor=0.1, patience=7, verbose=1, epsilon=1e-4, mode='min')\n",
        "\n"
      ],
      "metadata": {
        "id": "7a1zuPUZU46t",
        "colab": {
          "base_uri": "https://localhost:8080/"
        },
        "outputId": "5b951aac-2a74-4710-b4fa-70dd63af4539"
      },
      "execution_count": 14,
      "outputs": [
        {
          "output_type": "stream",
          "name": "stderr",
          "text": [
            "WARNING:tensorflow:`epsilon` argument is deprecated and will be removed, use `min_delta` instead.\n"
          ]
        }
      ]
    },
    {
      "cell_type": "code",
      "source": [
        "model=tf.keras.applications.resnet50.ResNet50(include_top=True,\n",
        "                                              input_shape=(size, size, 3),\n",
        "                                              pooling=None,\n",
        "                                              weights=None,#'imagenet',\n",
        "                                              classes=102)\n",
        "#model.add(layers.Dense(102))"
      ],
      "metadata": {
        "id": "GTE5vAaG-nXM"
      },
      "execution_count": 15,
      "outputs": []
    },
    {
      "cell_type": "code",
      "source": [
        "'''model = models.Sequential()\n",
        "#model.add(conv_base)\n",
        "model.add(layers.Conv2D(256, kernel_size=(3,3),activation='relu',input_shape=(size, size, 3)))\n",
        "#model.add(layers.Conv2D(32, (3, 3), activation='relu', input_shape=(size, size, 3)))\n",
        "model.add(layers.MaxPooling2D((2, 2)))\n",
        "model.add(layers.Conv2D(128, (3, 3), activation='relu'))\n",
        "model.add(layers.MaxPooling2D((2, 2)))\n",
        "model.add(layers.Conv2D(128, (3, 3), activation='relu'))\n",
        "#model.add(layers.Dense(256, activation='relu'))\n",
        "model.add(layers.Flatten())\n",
        "\n",
        "model.add(layers.Dense(102))'''"
      ],
      "metadata": {
        "id": "8dzsuojo-nZc",
        "colab": {
          "base_uri": "https://localhost:8080/",
          "height": 70
        },
        "outputId": "619e74ca-3c16-43c8-896f-acf04efd4299"
      },
      "execution_count": 16,
      "outputs": [
        {
          "output_type": "execute_result",
          "data": {
            "text/plain": [
              "\"model = models.Sequential()\\n#model.add(conv_base)\\nmodel.add(layers.Conv2D(256, kernel_size=(3,3),activation='relu',input_shape=(size, size, 3)))\\n#model.add(layers.Conv2D(32, (3, 3), activation='relu', input_shape=(size, size, 3)))\\nmodel.add(layers.MaxPooling2D((2, 2)))\\nmodel.add(layers.Conv2D(128, (3, 3), activation='relu'))\\nmodel.add(layers.MaxPooling2D((2, 2)))\\nmodel.add(layers.Conv2D(128, (3, 3), activation='relu'))\\n#model.add(layers.Dense(256, activation='relu'))\\nmodel.add(layers.Flatten())\\n\\nmodel.add(layers.Dense(102))\""
            ],
            "application/vnd.google.colaboratory.intrinsic+json": {
              "type": "string"
            }
          },
          "metadata": {},
          "execution_count": 16
        }
      ]
    },
    {
      "cell_type": "code",
      "source": [
        "model.summary()"
      ],
      "metadata": {
        "id": "F5k2cbsa-nbs"
      },
      "execution_count": null,
      "outputs": []
    },
    {
      "cell_type": "code",
      "source": [
        "opt = tf.keras.optimizers.Adam(learning_rate=0.001)\n",
        "model.compile(optimizer=opt,\n",
        "              loss=tf.keras.losses.CategoricalCrossentropy(),\n",
        "              metrics=['accuracy'])"
      ],
      "metadata": {
        "id": "clHmxkvV-nds"
      },
      "execution_count": 18,
      "outputs": []
    },
    {
      "cell_type": "code",
      "source": [
        "history = model.fit(train_generator ,\n",
        "                    epochs=15, \n",
        "                    validation_data=valid_generator,\n",
        "                    callbacks=[earlyStopping, mcp_save, reduce_lr_loss])"
      ],
      "metadata": {
        "colab": {
          "base_uri": "https://localhost:8080/"
        },
        "id": "bMg9ukf6R2tR",
        "outputId": "04ccd6c8-55db-4a6b-954f-e622e1fd3f82"
      },
      "execution_count": 19,
      "outputs": [
        {
          "output_type": "stream",
          "name": "stdout",
          "text": [
            "Epoch 1/15\n",
            "189/189 [==============================] - 280s 1s/step - loss: 3.8141 - accuracy: 0.1484 - val_loss: 6.2160 - val_accuracy: 0.0226 - lr: 0.0010\n",
            "Epoch 2/15\n",
            "189/189 [==============================] - 263s 1s/step - loss: 2.7823 - accuracy: 0.2612 - val_loss: 4.4122 - val_accuracy: 0.1135 - lr: 0.0010\n",
            "Epoch 3/15\n",
            "189/189 [==============================] - 262s 1s/step - loss: 2.3632 - accuracy: 0.3568 - val_loss: 33.2534 - val_accuracy: 0.1178 - lr: 0.0010\n",
            "Epoch 4/15\n",
            "189/189 [==============================] - 262s 1s/step - loss: 2.1121 - accuracy: 0.4006 - val_loss: 9.3133 - val_accuracy: 0.0807 - lr: 0.0010\n",
            "Epoch 5/15\n",
            "189/189 [==============================] - 262s 1s/step - loss: 1.8682 - accuracy: 0.4663 - val_loss: 4.6156 - val_accuracy: 0.3147 - lr: 0.0010\n",
            "Epoch 6/15\n",
            "189/189 [==============================] - 261s 1s/step - loss: 1.6242 - accuracy: 0.5224 - val_loss: 13.6077 - val_accuracy: 0.1259 - lr: 0.0010\n",
            "Epoch 7/15\n",
            "189/189 [==============================] - 263s 1s/step - loss: 1.5178 - accuracy: 0.5576 - val_loss: 20.4869 - val_accuracy: 0.1221 - lr: 0.0010\n",
            "Epoch 8/15\n",
            "189/189 [==============================] - 262s 1s/step - loss: 1.3624 - accuracy: 0.5991 - val_loss: 8.7829 - val_accuracy: 0.1469 - lr: 0.0010\n",
            "Epoch 9/15\n",
            "189/189 [==============================] - ETA: 0s - loss: 1.1843 - accuracy: 0.6512\n",
            "Epoch 9: ReduceLROnPlateau reducing learning rate to 0.00010000000474974513.\n",
            "189/189 [==============================] - 262s 1s/step - loss: 1.1843 - accuracy: 0.6512 - val_loss: 6.2979 - val_accuracy: 0.2760 - lr: 0.0010\n",
            "Epoch 10/15\n",
            "189/189 [==============================] - 263s 1s/step - loss: 0.7820 - accuracy: 0.7736 - val_loss: 3.6855 - val_accuracy: 0.6089 - lr: 1.0000e-04\n",
            "Epoch 11/15\n",
            "189/189 [==============================] - 261s 1s/step - loss: 0.6007 - accuracy: 0.8231 - val_loss: 3.8713 - val_accuracy: 0.6514 - lr: 1.0000e-04\n",
            "Epoch 12/15\n",
            "189/189 [==============================] - 261s 1s/step - loss: 0.5142 - accuracy: 0.8394 - val_loss: 4.2576 - val_accuracy: 0.6132 - lr: 1.0000e-04\n",
            "Epoch 13/15\n",
            "189/189 [==============================] - 262s 1s/step - loss: 0.4710 - accuracy: 0.8646 - val_loss: 4.2995 - val_accuracy: 0.6391 - lr: 1.0000e-04\n",
            "Epoch 14/15\n",
            "189/189 [==============================] - 262s 1s/step - loss: 0.4329 - accuracy: 0.8759 - val_loss: 4.1940 - val_accuracy: 0.6708 - lr: 1.0000e-04\n",
            "Epoch 15/15\n",
            "189/189 [==============================] - 262s 1s/step - loss: 0.4464 - accuracy: 0.8679 - val_loss: 4.4647 - val_accuracy: 0.6541 - lr: 1.0000e-04\n"
          ]
        }
      ]
    },
    {
      "cell_type": "code",
      "source": [
        "'''from keras import backend as K \n",
        "\n",
        "#model = load_model('model.h5')\n",
        "\n",
        "inp = model.input                                         # input placeholder\n",
        "out = [layer.output for layer in model.layers]            # all layer outputs\n",
        "get_outputs = K.function([inp, K.learning_phase()], out)   \n",
        "\n",
        "print(get_outputs)'''\n"
      ],
      "metadata": {
        "id": "hHgZVFGWRz86",
        "colab": {
          "base_uri": "https://localhost:8080/",
          "height": 53
        },
        "outputId": "7b8e79d0-90bb-4760-cfc9-92079eca3378"
      },
      "execution_count": 20,
      "outputs": [
        {
          "output_type": "execute_result",
          "data": {
            "text/plain": [
              "\"from keras import backend as K \\n\\n#model = load_model('model.h5')\\n\\ninp = model.input                                         # input placeholder\\nout = [layer.output for layer in model.layers]            # all layer outputs\\nget_outputs = K.function([inp, K.learning_phase()], out)   \\n\\nprint(get_outputs)\""
            ],
            "application/vnd.google.colaboratory.intrinsic+json": {
              "type": "string"
            }
          },
          "metadata": {},
          "execution_count": 20
        }
      ]
    },
    {
      "cell_type": "code",
      "source": [
        "from keras import backend as K\n",
        "\n",
        "layer_dict = dict([(layer.name, layer) for layer in model.layers])\n",
        "\n",
        "# input tensor\n",
        "input_tensor = model.input\n",
        "\n",
        "# output tensor of the given layer\n",
        "layer_output = layer_dict['conv2d_1'].output\n",
        "\n",
        "# get the output with respect to the input\n",
        "func = K.function([input_tensor], [layer_output])"
      ],
      "metadata": {
        "colab": {
          "base_uri": "https://localhost:8080/",
          "height": 235
        },
        "id": "bpuxHAZ55SiH",
        "outputId": "7d4de40d-119d-461b-876a-e754dd871d2c"
      },
      "execution_count": 21,
      "outputs": [
        {
          "output_type": "error",
          "ename": "KeyError",
          "evalue": "ignored",
          "traceback": [
            "\u001b[0;31m---------------------------------------------------------------------------\u001b[0m",
            "\u001b[0;31mKeyError\u001b[0m                                  Traceback (most recent call last)",
            "\u001b[0;32m<ipython-input-21-56bffbfb50ba>\u001b[0m in \u001b[0;36m<module>\u001b[0;34m\u001b[0m\n\u001b[1;32m      7\u001b[0m \u001b[0;34m\u001b[0m\u001b[0m\n\u001b[1;32m      8\u001b[0m \u001b[0;31m# output tensor of the given layer\u001b[0m\u001b[0;34m\u001b[0m\u001b[0;34m\u001b[0m\u001b[0;34m\u001b[0m\u001b[0m\n\u001b[0;32m----> 9\u001b[0;31m \u001b[0mlayer_output\u001b[0m \u001b[0;34m=\u001b[0m \u001b[0mlayer_dict\u001b[0m\u001b[0;34m[\u001b[0m\u001b[0;34m'conv2d_1'\u001b[0m\u001b[0;34m]\u001b[0m\u001b[0;34m.\u001b[0m\u001b[0moutput\u001b[0m\u001b[0;34m\u001b[0m\u001b[0;34m\u001b[0m\u001b[0m\n\u001b[0m\u001b[1;32m     10\u001b[0m \u001b[0;34m\u001b[0m\u001b[0m\n\u001b[1;32m     11\u001b[0m \u001b[0;31m# get the output with respect to the input\u001b[0m\u001b[0;34m\u001b[0m\u001b[0;34m\u001b[0m\u001b[0;34m\u001b[0m\u001b[0m\n",
            "\u001b[0;31mKeyError\u001b[0m: 'conv2d_1'"
          ]
        }
      ]
    },
    {
      "cell_type": "code",
      "source": [],
      "metadata": {
        "id": "mf4Y4gJ35Z6n"
      },
      "execution_count": null,
      "outputs": []
    },
    {
      "cell_type": "code",
      "source": [],
      "metadata": {
        "id": "cpyb9w5x2ZOY"
      },
      "execution_count": null,
      "outputs": []
    },
    {
      "cell_type": "code",
      "source": [
        "'''layer_outs = func([img, 1.])                                                \n",
        "print(layer_outs)'''\n"
      ],
      "metadata": {
        "id": "B8Nl7hG6_Ym8"
      },
      "execution_count": null,
      "outputs": []
    },
    {
      "cell_type": "code",
      "source": [],
      "metadata": {
        "id": "cIXwyZJc_YpU"
      },
      "execution_count": null,
      "outputs": []
    },
    {
      "cell_type": "code",
      "source": [
        "#preds=model.predict(valid_generator)"
      ],
      "metadata": {
        "id": "3KuHmkif_Yrb"
      },
      "execution_count": null,
      "outputs": []
    },
    {
      "cell_type": "code",
      "source": [],
      "metadata": {
        "id": "jKzcMsqO_Ytk"
      },
      "execution_count": null,
      "outputs": []
    },
    {
      "cell_type": "code",
      "source": [],
      "metadata": {
        "id": "46vo5AXD_Yvc"
      },
      "execution_count": null,
      "outputs": []
    }
  ]
}