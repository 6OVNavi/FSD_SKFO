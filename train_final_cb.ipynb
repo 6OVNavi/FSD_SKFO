{
  "nbformat": 4,
  "nbformat_minor": 0,
  "metadata": {
    "colab": {
      "provenance": []
    },
    "kernelspec": {
      "name": "python3",
      "display_name": "Python 3"
    },
    "language_info": {
      "name": "python"
    },
    "accelerator": "GPU",
    "gpuClass": "standard"
  },
  "cells": [
    {
      "cell_type": "code",
      "execution_count": 15,
      "metadata": {
        "colab": {
          "base_uri": "https://localhost:8080/"
        },
        "id": "AvcHXRamReLB",
        "outputId": "ef8fe630-45f5-41a5-ed13-e6937fda4dcf"
      },
      "outputs": [
        {
          "output_type": "stream",
          "name": "stdout",
          "text": [
            "Looking in indexes: https://pypi.org/simple, https://us-python.pkg.dev/colab-wheels/public/simple/\n",
            "Requirement already satisfied: catboost in /usr/local/lib/python3.7/dist-packages (1.1.1)\n",
            "Requirement already satisfied: scipy in /usr/local/lib/python3.7/dist-packages (from catboost) (1.7.3)\n",
            "Requirement already satisfied: matplotlib in /usr/local/lib/python3.7/dist-packages (from catboost) (3.2.2)\n",
            "Requirement already satisfied: pandas>=0.24.0 in /usr/local/lib/python3.7/dist-packages (from catboost) (1.3.5)\n",
            "Requirement already satisfied: plotly in /usr/local/lib/python3.7/dist-packages (from catboost) (5.5.0)\n",
            "Requirement already satisfied: graphviz in /usr/local/lib/python3.7/dist-packages (from catboost) (0.10.1)\n",
            "Requirement already satisfied: six in /usr/local/lib/python3.7/dist-packages (from catboost) (1.15.0)\n",
            "Requirement already satisfied: numpy>=1.16.0 in /usr/local/lib/python3.7/dist-packages (from catboost) (1.21.6)\n",
            "Requirement already satisfied: pytz>=2017.3 in /usr/local/lib/python3.7/dist-packages (from pandas>=0.24.0->catboost) (2022.6)\n",
            "Requirement already satisfied: python-dateutil>=2.7.3 in /usr/local/lib/python3.7/dist-packages (from pandas>=0.24.0->catboost) (2.8.2)\n",
            "Requirement already satisfied: kiwisolver>=1.0.1 in /usr/local/lib/python3.7/dist-packages (from matplotlib->catboost) (1.4.4)\n",
            "Requirement already satisfied: pyparsing!=2.0.4,!=2.1.2,!=2.1.6,>=2.0.1 in /usr/local/lib/python3.7/dist-packages (from matplotlib->catboost) (3.0.9)\n",
            "Requirement already satisfied: cycler>=0.10 in /usr/local/lib/python3.7/dist-packages (from matplotlib->catboost) (0.11.0)\n",
            "Requirement already satisfied: typing-extensions in /usr/local/lib/python3.7/dist-packages (from kiwisolver>=1.0.1->matplotlib->catboost) (4.1.1)\n",
            "Requirement already satisfied: tenacity>=6.2.0 in /usr/local/lib/python3.7/dist-packages (from plotly->catboost) (8.1.0)\n"
          ]
        }
      ],
      "source": [
        "!pip install catboost"
      ]
    },
    {
      "cell_type": "code",
      "source": [
        "from catboost import CatBoostClassifier\n",
        "import pandas as pd\n",
        "from sklearn.model_selection import train_test_split \n",
        "import os\n",
        "import numpy as np"
      ],
      "metadata": {
        "id": "og_nXlPJSj0D"
      },
      "execution_count": 16,
      "outputs": []
    },
    {
      "cell_type": "code",
      "source": [
        "df=pd.read_csv(r'/content/drive/MyDrive/tocb93s8.csv')"
      ],
      "metadata": {
        "id": "FPhhXhG5R5hv"
      },
      "execution_count": 17,
      "outputs": []
    },
    {
      "cell_type": "code",
      "source": [
        "x=df.drop('2048', axis=1)\n",
        "y=df['2048'].values\n",
        "\n",
        "x_train, x_val, y_train, y_val=train_test_split(x, y, test_size=0.2, random_state=42)"
      ],
      "metadata": {
        "id": "TnjvooUdSEwk"
      },
      "execution_count": 18,
      "outputs": []
    },
    {
      "cell_type": "code",
      "source": [
        "catboost_params = {\n",
        "    'iterations': 2000,\n",
        "    #'learning_rate': 0.1,\n",
        "    'eval_metric': 'Accuracy',\n",
        "    #'early_stopping_rounds': 10,\n",
        "    'use_best_model': True,\n",
        "    'verbose': 100,\n",
        "    'random_state': 42,\n",
        "    'task_type': 'GPU'\n",
        "} "
      ],
      "metadata": {
        "id": "_Sc1skBFSG_2"
      },
      "execution_count": 19,
      "outputs": []
    },
    {
      "cell_type": "code",
      "source": [
        "cb=CatBoostClassifier(**catboost_params)"
      ],
      "metadata": {
        "id": "EjJlu5m4SJvF"
      },
      "execution_count": 20,
      "outputs": []
    },
    {
      "cell_type": "code",
      "source": [
        "cb.fit(x_train, y_train, eval_set=(x_val, y_val))"
      ],
      "metadata": {
        "colab": {
          "base_uri": "https://localhost:8080/"
        },
        "id": "lpVYpAKbSLiD",
        "outputId": "8cf3b219-4d63-4c3b-a662-e012b0e501cf"
      },
      "execution_count": 21,
      "outputs": [
        {
          "output_type": "stream",
          "name": "stdout",
          "text": [
            "Learning rate set to 0.094562\n",
            "0:\tlearn: 0.2104663\ttest: 0.1944128\tbest: 0.1944128 (0)\ttotal: 879ms\tremaining: 29m 17s\n",
            "100:\tlearn: 0.9590760\ttest: 0.9093501\tbest: 0.9093501 (100)\ttotal: 1m 24s\tremaining: 26m 21s\n",
            "200:\tlearn: 0.9885926\ttest: 0.9498290\tbest: 0.9498290 (198)\ttotal: 2m 40s\tremaining: 23m 53s\n",
            "300:\tlearn: 0.9978611\ttest: 0.9629418\tbest: 0.9646522 (298)\ttotal: 3m 54s\tremaining: 22m 3s\n",
            "400:\tlearn: 0.9992870\ttest: 0.9692132\tbest: 0.9692132 (367)\ttotal: 5m 8s\tremaining: 20m 29s\n",
            "500:\tlearn: 1.0000000\ttest: 0.9737742\tbest: 0.9737742 (500)\ttotal: 6m 22s\tremaining: 19m 3s\n",
            "600:\tlearn: 1.0000000\ttest: 0.9754846\tbest: 0.9771950 (571)\ttotal: 7m 35s\tremaining: 17m 39s\n",
            "700:\tlearn: 1.0000000\ttest: 0.9771950\tbest: 0.9800456 (684)\ttotal: 8m 48s\tremaining: 16m 20s\n",
            "800:\tlearn: 1.0000000\ttest: 0.9823261\tbest: 0.9828962 (777)\ttotal: 10m 2s\tremaining: 15m 1s\n",
            "900:\tlearn: 1.0000000\ttest: 0.9828962\tbest: 0.9828962 (777)\ttotal: 11m 15s\tremaining: 13m 43s\n",
            "1000:\tlearn: 1.0000000\ttest: 0.9828962\tbest: 0.9834664 (936)\ttotal: 12m 29s\tremaining: 12m 28s\n",
            "1100:\tlearn: 1.0000000\ttest: 0.9834664\tbest: 0.9834664 (936)\ttotal: 13m 43s\tremaining: 11m 12s\n",
            "1200:\tlearn: 1.0000000\ttest: 0.9834664\tbest: 0.9834664 (936)\ttotal: 14m 56s\tremaining: 9m 56s\n",
            "1300:\tlearn: 1.0000000\ttest: 0.9834664\tbest: 0.9840365 (1260)\ttotal: 16m 9s\tremaining: 8m 40s\n",
            "1400:\tlearn: 1.0000000\ttest: 0.9840365\tbest: 0.9840365 (1260)\ttotal: 17m 22s\tremaining: 7m 25s\n",
            "1500:\tlearn: 1.0000000\ttest: 0.9840365\tbest: 0.9846066 (1461)\ttotal: 18m 37s\tremaining: 6m 11s\n",
            "1600:\tlearn: 1.0000000\ttest: 0.9851767\tbest: 0.9851767 (1540)\ttotal: 19m 50s\tremaining: 4m 56s\n",
            "1700:\tlearn: 1.0000000\ttest: 0.9857469\tbest: 0.9863170 (1693)\ttotal: 21m 3s\tremaining: 3m 42s\n",
            "1800:\tlearn: 1.0000000\ttest: 0.9863170\tbest: 0.9863170 (1693)\ttotal: 22m 17s\tremaining: 2m 27s\n",
            "1900:\tlearn: 1.0000000\ttest: 0.9868871\tbest: 0.9868871 (1857)\ttotal: 23m 31s\tremaining: 1m 13s\n",
            "1999:\tlearn: 1.0000000\ttest: 0.9880274\tbest: 0.9880274 (1937)\ttotal: 24m 43s\tremaining: 0us\n",
            "bestTest = 0.988027366\n",
            "bestIteration = 1937\n",
            "Shrink model to first 1938 iterations.\n"
          ]
        },
        {
          "output_type": "execute_result",
          "data": {
            "text/plain": [
              "<catboost.core.CatBoostClassifier at 0x7fdea5b1d850>"
            ]
          },
          "metadata": {},
          "execution_count": 21
        }
      ]
    },
    {
      "cell_type": "code",
      "source": [
        "preds=cb.predict(x_val)"
      ],
      "metadata": {
        "id": "VsldUuf9SNyi"
      },
      "execution_count": 22,
      "outputs": []
    },
    {
      "cell_type": "code",
      "source": [
        "from sklearn.metrics import accuracy_score\n",
        "print(accuracy_score(preds, y_val))"
      ],
      "metadata": {
        "colab": {
          "base_uri": "https://localhost:8080/"
        },
        "id": "v5kxkUgESPPe",
        "outputId": "16e2186f-4d74-431e-9219-513de6828a1a"
      },
      "execution_count": 23,
      "outputs": [
        {
          "output_type": "stream",
          "name": "stdout",
          "text": [
            "0.9880273660205245\n"
          ]
        }
      ]
    },
    {
      "cell_type": "code",
      "source": [
        "from sklearn.metrics import f1_score\n",
        "print(f1_score(preds, y_val,average='macro'))"
      ],
      "metadata": {
        "colab": {
          "base_uri": "https://localhost:8080/"
        },
        "id": "o1gg5Fa6ZNKS",
        "outputId": "6d08ff1b-32de-4efc-c4d7-b101ae1fcbc9"
      },
      "execution_count": 29,
      "outputs": [
        {
          "output_type": "stream",
          "name": "stdout",
          "text": [
            "0.9798830182827618\n"
          ]
        }
      ]
    },
    {
      "cell_type": "code",
      "source": [
        "import pickle\n",
        "with open('/content/drive/MyDrive/model.pkl','wb') as f:\n",
        "  pickle.dump(cb,f)"
      ],
      "metadata": {
        "id": "yC2FVgv2Tg7B"
      },
      "execution_count": 24,
      "outputs": []
    }
  ]
}